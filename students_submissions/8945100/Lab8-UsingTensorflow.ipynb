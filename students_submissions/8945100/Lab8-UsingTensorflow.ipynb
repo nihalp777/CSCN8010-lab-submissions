{
 "cells": [
  {
   "cell_type": "markdown",
   "metadata": {},
   "source": [
    "## Name: Nihal Patel\n",
    "## Student ID: 8945100"
   ]
  },
  {
   "cell_type": "markdown",
   "metadata": {},
   "source": [
    "## Using Tensorflow"
   ]
  },
  {
   "cell_type": "markdown",
   "metadata": {},
   "source": [
    "3. Using Tensorflow:\n",
    "- Calculate the dot product between the same vectors as above (re-define them in Tensorflow) (1.5 points)\n",
    "- Calculate the matrix multiplication of the same matrics as above (re-define them in Tensorflow) (1.5 points)"
   ]
  },
  {
   "cell_type": "markdown",
   "metadata": {},
   "source": [
    "### 1. Calculate the dot product between the same vectors as above (re-define them in Tensorflow)"
   ]
  },
  {
   "cell_type": "code",
   "execution_count": 3,
   "metadata": {},
   "outputs": [],
   "source": [
    "# First, we will import necessary libraries\n",
    "import tensorflow as tf"
   ]
  },
  {
   "cell_type": "code",
   "execution_count": 6,
   "metadata": {},
   "outputs": [
    {
     "name": "stdout",
     "output_type": "stream",
     "text": [
      "Vector 1:\n",
      " tf.Tensor([10 20 30], shape=(3,), dtype=int32)\n",
      "Vector 2:\n",
      " tf.Tensor([40 50 60], shape=(3,), dtype=int32)\n",
      "\n",
      "\n",
      "The Dot product of 2 vectors is as below:\n",
      " tf.Tensor(3200, shape=(), dtype=int32)\n"
     ]
    }
   ],
   "source": [
    "# We will first define two vectors\n",
    "\n",
    "vector1 = tf.constant([10,20,30])\n",
    "vector2 = tf.constant([40,50,60])\n",
    "\n",
    "# We will now calculate the Dot product of the above created 2 vectors\n",
    "dotProduct = tf.tensordot(vector1, vector2, axes=1)\n",
    "print(\"Vector 1:\\n\",vector1)\n",
    "print(\"Vector 2:\\n\",vector2)\n",
    "print(\"\\n\")\n",
    "print(\"The Dot product of 2 vectors is as below:\\n\",dotProduct)"
   ]
  },
  {
   "cell_type": "markdown",
   "metadata": {},
   "source": [
    "We have used tf.constant() function to create TensorFlow constant tensors for vector1 and vector2. tf.tensordot() function is used to calculate the dot product of the two vectors. The axes parameter is set to 1 to indicate that the dot product should be calculated along the second axis which also represents the elements of the vectors. The result is stored in dotProduct variable which gives output as tf.Tensor(3200, shape=(), dtype=int32)"
   ]
  },
  {
   "cell_type": "markdown",
   "metadata": {},
   "source": [
    "### 2. Calculate the matrix multiplication of the same matrics as above (re-define them in Tensorflow)"
   ]
  },
  {
   "cell_type": "code",
   "execution_count": 7,
   "metadata": {},
   "outputs": [
    {
     "name": "stdout",
     "output_type": "stream",
     "text": [
      "Matrix 1:\n",
      " tf.Tensor(\n",
      "[[10 20]\n",
      " [30 40]], shape=(2, 2), dtype=int32)\n",
      "Matrix 2:\n",
      " tf.Tensor(\n",
      "[[50 60]\n",
      " [70 80]], shape=(2, 2), dtype=int32)\n",
      "\n",
      "\n",
      "The Matrix multiplication of 2X2 Matrix is:\n",
      " tf.Tensor(\n",
      "[[1900 2200]\n",
      " [4300 5000]], shape=(2, 2), dtype=int32)\n"
     ]
    }
   ],
   "source": [
    "# We will define the two matrices\n",
    "matrix1 = tf.constant([[10, 20], [30, 40]])\n",
    "matrix2 = tf.constant([[50, 60], [70, 80]])\n",
    "\n",
    "# We will calculate the matrix multiplication\n",
    "matrixProduct = tf.matmul(matrix1, matrix2)\n",
    "print(\"Matrix 1:\\n\",matrix1)\n",
    "print(\"Matrix 2:\\n\",matrix2)\n",
    "print(\"\\n\")\n",
    "print(\"The Matrix multiplication of 2X2 Matrix is:\\n\",matrixProduct)"
   ]
  },
  {
   "cell_type": "markdown",
   "metadata": {},
   "source": [
    "We have used the tf.matmul() function to calculate the matrix multiplication of the two matrices. The result is stored in the matrixProduct variable which gives us output as \n",
    "tf.Tensor(\n",
    "[[1900 2200]\n",
    " [4300 5000]], shape=(2, 2), dtype=int32)"
   ]
  },
  {
   "cell_type": "code",
   "execution_count": null,
   "metadata": {},
   "outputs": [],
   "source": []
  }
 ],
 "metadata": {
  "kernelspec": {
   "display_name": "tensorflow_cpu",
   "language": "python",
   "name": "tensorflow_cpu"
  },
  "language_info": {
   "codemirror_mode": {
    "name": "ipython",
    "version": 3
   },
   "file_extension": ".py",
   "mimetype": "text/x-python",
   "name": "python",
   "nbconvert_exporter": "python",
   "pygments_lexer": "ipython3",
   "version": "3.11.5"
  }
 },
 "nbformat": 4,
 "nbformat_minor": 2
}
