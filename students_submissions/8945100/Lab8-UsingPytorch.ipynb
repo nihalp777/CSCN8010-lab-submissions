{
 "cells": [
  {
   "cell_type": "markdown",
   "metadata": {},
   "source": [
    "## Lab 8 - A Dot product and a Matrix Multiplication in PyTorch and Tensorflow"
   ]
  },
  {
   "cell_type": "markdown",
   "metadata": {},
   "source": [
    "## Name: Nihal Patel\n",
    "## Student ID: 8945100"
   ]
  },
  {
   "cell_type": "markdown",
   "metadata": {},
   "source": [
    "1. Setup Tensorflow and PyTorch based on the instructions in ./setup/README.md\n",
    "\n",
    "2. Using PyTorch:\n",
    "- Calculate the dot product between two vectors each of length 3 (1.5 points)\n",
    "- Calculate the matrix multiplication of two 2-dimensional matrices, each with a size of (2,2) (1.5 points)\n",
    "\n",
    "3. Using Tensorflow:\n",
    "- Calculate the dot product between the same vectors as above (re-define them in Tensorflow) (1.5 points)\n",
    "- Calculate the matrix multiplication of the same matrics as above (re-define them in Tensorflow) (1.5 points)\n",
    "\n",
    "Note: You can submit this as two separate notebooks and HTMLs, or as a single notebook and an HTML (if you choose a single notebook, you will need to switch between the PyTorch and Tesorflow kernels)."
   ]
  },
  {
   "cell_type": "markdown",
   "metadata": {},
   "source": [
    "## Using Pytorch"
   ]
  },
  {
   "cell_type": "markdown",
   "metadata": {},
   "source": [
    "### 1. Calculate the dot product between two vectors each of length 3"
   ]
  },
  {
   "cell_type": "code",
   "execution_count": 1,
   "metadata": {},
   "outputs": [],
   "source": [
    "# First, we will import necessary libraries\n",
    "import torch"
   ]
  },
  {
   "cell_type": "code",
   "execution_count": 2,
   "metadata": {},
   "outputs": [
    {
     "name": "stdout",
     "output_type": "stream",
     "text": [
      "Vector 1:\n",
      " tensor([10, 20, 30])\n",
      "Vector 2:\n",
      " tensor([40, 50, 60])\n",
      "\n",
      "\n",
      "The Dot product of 2 vectors is as below:\n",
      " tensor(3200)\n"
     ]
    }
   ],
   "source": [
    "# We will first define two vectors\n",
    "\n",
    "vector1 = torch.tensor([10,20,30])\n",
    "vector2 = torch.tensor([40,50,60])\n",
    "\n",
    "# We will now calculate the Dot product of the above created 2 vectors\n",
    "dotProduct = torch.dot(vector1, vector2)\n",
    "print(\"Vector 1:\\n\",vector1)\n",
    "print(\"Vector 2:\\n\",vector2)\n",
    "print(\"\\n\")\n",
    "print(\"The Dot product of 2 vectors is as below:\\n\",dotProduct)"
   ]
  },
  {
   "cell_type": "markdown",
   "metadata": {},
   "source": [
    "In the above code, we have used torch.tensor(). It refers to Pytorch tensors for vector1 and vector2. The torch.dot() is used to calculate the dot product of both the vectors. On calculating, we get the Final dot product as 3200 for vector1 and vector2."
   ]
  },
  {
   "cell_type": "markdown",
   "metadata": {},
   "source": [
    "### 2. Calculate the matrix multiplication of two 2-dimensional matrices, each with a size of (2,2)"
   ]
  },
  {
   "cell_type": "code",
   "execution_count": 7,
   "metadata": {},
   "outputs": [
    {
     "name": "stdout",
     "output_type": "stream",
     "text": [
      "Matrix 1:\n",
      " tensor([[10, 20],\n",
      "        [30, 40]])\n",
      "Matrix 2:\n",
      " tensor([[50, 60],\n",
      "        [70, 80]])\n",
      "\n",
      "\n",
      "The Matrix multiplication of 2X2 Matrix is:\n",
      " tensor([[1900, 2200],\n",
      "        [4300, 5000]])\n"
     ]
    }
   ],
   "source": [
    "# We will define the two matrices\n",
    "matrix1 = torch.tensor([[10, 20], [30, 40]])\n",
    "matrix2 = torch.tensor([[50, 60], [70, 80]])\n",
    "\n",
    "# We will calculate the matrix multiplication\n",
    "matrixProduct = torch.matmul(matrix1, matrix2)\n",
    "print(\"Matrix 1:\\n\",matrix1)\n",
    "print(\"Matrix 2:\\n\",matrix2)\n",
    "print(\"\\n\")\n",
    "print(\"The Matrix multiplication of 2X2 Matrix is:\\n\",matrixProduct)"
   ]
  },
  {
   "cell_type": "markdown",
   "metadata": {},
   "source": [
    "We have used the torch.matmul() function to calculate the matrix multiplication of the two matrices, and the result is stored in the matrixProduct variable. The final matrix product we are getting is  \n",
    "tensor([[1900, 2200],\n",
    "        [4300, 5000]])"
   ]
  },
  {
   "cell_type": "code",
   "execution_count": null,
   "metadata": {},
   "outputs": [],
   "source": []
  }
 ],
 "metadata": {
  "kernelspec": {
   "display_name": "pytorch_cpu",
   "language": "python",
   "name": "pytorch_cpu"
  },
  "language_info": {
   "codemirror_mode": {
    "name": "ipython",
    "version": 3
   },
   "file_extension": ".py",
   "mimetype": "text/x-python",
   "name": "python",
   "nbconvert_exporter": "python",
   "pygments_lexer": "ipython3",
   "version": "3.11.5"
  }
 },
 "nbformat": 4,
 "nbformat_minor": 2
}
